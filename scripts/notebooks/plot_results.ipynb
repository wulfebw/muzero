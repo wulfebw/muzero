{
 "cells": [
  {
   "cell_type": "code",
   "execution_count": null,
   "metadata": {},
   "outputs": [],
   "source": [
    "%matplotlib inline"
   ]
  },
  {
   "cell_type": "code",
   "execution_count": null,
   "metadata": {},
   "outputs": [],
   "source": [
    "import collections\n",
    "import glob\n",
    "import os\n",
    "\n",
    "import matplotlib.pyplot as plt\n",
    "import numpy as np\n",
    "import pandas as pd\n",
    "import seaborn as sns\n",
    "sns.set_style(\"whitegrid\")"
   ]
  },
  {
   "cell_type": "code",
   "execution_count": null,
   "metadata": {},
   "outputs": [],
   "source": [
    "# The optimal average return of the MDP.\n",
    "# Compute this instead of hardcoding it because it'll get stale fast.\n",
    "# I computed this by uniformly averaging the values output from value iteration for the starting room.\n",
    "_OPTIMAL_V = 0.9373168211111111"
   ]
  },
  {
   "cell_type": "code",
   "execution_count": null,
   "metadata": {},
   "outputs": [],
   "source": [
    "viz_dir = \"../../data/\"\n",
    "results_dir = os.path.join(viz_dir, \"results\")\n",
    "os.makedirs(results_dir, exist_ok=True)\n",
    "dirpaths = glob.glob(os.path.join(viz_dir, \"muzero_*\"))\n",
    "print(len(dirpaths))"
   ]
  },
  {
   "cell_type": "code",
   "execution_count": null,
   "metadata": {},
   "outputs": [],
   "source": [
    "returns = []\n",
    "for dirpath in dirpaths:\n",
    "    try:\n",
    "        g = np.array(pd.read_csv(os.path.join(dirpath, \"stats.csv\"))[\"avg_discounted_return\"])\n",
    "        returns.append(g)\n",
    "    except:\n",
    "        print(\"failed to load {}\".format(dirpath))\n",
    "returns = np.array(returns)\n",
    "print(returns.shape)"
   ]
  },
  {
   "cell_type": "code",
   "execution_count": null,
   "metadata": {},
   "outputs": [],
   "source": [
    "def plot_returns(returns, steps_each=100):\n",
    "    plt.figure(figsize=(10, 6))\n",
    "    \n",
    "    means = returns.mean(axis=0) \n",
    "    y_err = np.std(returns, axis=0)\n",
    "    x_values = np.arange(len(means))* steps_each\n",
    "    \n",
    "    plt.plot(x_values, means, label=\"Tabular MuZero\", c=\"b\")\n",
    "    plt.fill_between(x_values, y2=means + y_err, y1=means - y_err, color=\"b\", alpha=0.2)\n",
    "    \n",
    "    plt.plot(x_values, np.ones_like(x_values) * _OPTIMAL_V, c=\"g\", label=\"Optimal Expected Value\", linestyle=\"--\")\n",
    "    \n",
    "    plt.xlabel(\"Steps\", fontsize=14)\n",
    "    plt.ylabel(\"Discounted Return\", fontsize=14)\n",
    "    plt.title(\"Discounted Return vs Environment Steps\", fontsize=14)\n",
    "    plt.legend(fontsize=14)\n",
    "    plt.tight_layout()"
   ]
  },
  {
   "cell_type": "code",
   "execution_count": null,
   "metadata": {},
   "outputs": [],
   "source": [
    "plot_returns(returns)\n",
    "plt.savefig(os.path.join(results_dir, \"average_discounted_return.png\"))"
   ]
  },
  {
   "cell_type": "code",
   "execution_count": null,
   "metadata": {
    "scrolled": false
   },
   "outputs": [],
   "source": [
    "def extract_param(string, substring):\n",
    "    start = string.index(substring + \"_\") + len(substring + \"_\")\n",
    "    end = start + string[start:].index(\"_\")\n",
    "    return string[start:end]\n",
    "    \n",
    "def extract_params_from_dirname(d):\n",
    "    return {\n",
    "        \"return_n\": extract_param(d, \"return_n\"),\n",
    "        \"monte carlo simulations\": extract_param(d, \"num_sims\")\n",
    "    }\n",
    "    \n",
    "returns = collections.defaultdict(lambda: collections.defaultdict(list))\n",
    "for dirpath in dirpaths:\n",
    "    params = extract_params_from_dirname(dirpath)\n",
    "    for k,v in params.items():\n",
    "        g = np.array(pd.read_csv(os.path.join(dirpath, \"stats.csv\"))[\"avg_discounted_return\"])\n",
    "        returns[k][v].append(g) "
   ]
  },
  {
   "cell_type": "code",
   "execution_count": null,
   "metadata": {},
   "outputs": [],
   "source": [
    "def plot_returns(returns, param, steps_each=100):\n",
    "    plt.figure(figsize=(10, 6))\n",
    "    keys = [str(k) for k in sorted([int(k) for k in returns.keys()])]\n",
    "    for param_value in keys:\n",
    "        \n",
    "        value_returns = returns[param_value]\n",
    "        \n",
    "        x_values = np.arange(len(value_returns[0]))* steps_each\n",
    "        \n",
    "        means = np.mean(value_returns, axis=0) \n",
    "        y_err = np.std(value_returns, axis=0)\n",
    "        x_values = np.arange(len(means))* steps_each\n",
    "    \n",
    "        plt.plot(x_values, means, label=\"{} = {}\".format(param, param_value))\n",
    "        plt.fill_between(x_values, y2=means + y_err, y1=means - y_err, alpha=0.2)\n",
    "    \n",
    "    plt.plot(x_values, np.ones_like(x_values) * _OPTIMAL_V, c=\"g\", label=\"Optimal Expected Value\", linestyle=\"--\")\n",
    "    \n",
    "    plt.xlabel(\"Steps\", fontsize=14)\n",
    "    plt.ylabel(\"Discounted Return\", fontsize=14)\n",
    "    plt.title(\"Discounted Return vs Environment Steps\".format(param), fontsize=14)\n",
    "    plt.legend(fontsize=14)\n",
    "    plt.tight_layout()"
   ]
  },
  {
   "cell_type": "code",
   "execution_count": null,
   "metadata": {},
   "outputs": [],
   "source": [
    "for k, v in returns.items():\n",
    "    plot_returns(v, k)\n",
    "    plt.savefig(os.path.join(results_dir, \"average_discounted_return_{}.png\".format(k)), dpi=300)"
   ]
  },
  {
   "cell_type": "code",
   "execution_count": null,
   "metadata": {},
   "outputs": [],
   "source": []
  }
 ],
 "metadata": {
  "kernelspec": {
   "display_name": "Python 3",
   "language": "python",
   "name": "python3"
  },
  "language_info": {
   "codemirror_mode": {
    "name": "ipython",
    "version": 3
   },
   "file_extension": ".py",
   "mimetype": "text/x-python",
   "name": "python",
   "nbconvert_exporter": "python",
   "pygments_lexer": "ipython3",
   "version": "3.7.5"
  }
 },
 "nbformat": 4,
 "nbformat_minor": 1
}
